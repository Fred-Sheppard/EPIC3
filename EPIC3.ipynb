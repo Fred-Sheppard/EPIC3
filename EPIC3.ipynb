{
 "nbformat": 4,
 "nbformat_minor": 0,
 "metadata": {
  "colab": {
   "provenance": [],
   "collapsed_sections": [
    "7t-AH7Zi6n6g"
   ]
  },
  "kernelspec": {
   "name": "python3",
   "language": "python",
   "display_name": "Python 3 (ipykernel)"
  },
  "language_info": {
   "name": "python"
  }
 },
 "cells": [
  {
   "cell_type": "markdown",
   "source": [
    "# EPIC\n",
    "# Ireland Greenhouse Gas Emmisions"
   ],
   "metadata": {
    "id": "lk6zDXxvuQpu"
   }
  },
  {
   "cell_type": "markdown",
   "source": [
    "---\n",
    "# Setup"
   ],
   "metadata": {
    "id": "7t-AH7Zi6n6g"
   }
  },
  {
   "cell_type": "code",
   "outputs": [],
   "source": [
    "import numpy as np\n",
    "import pandas as pd"
   ],
   "metadata": {
    "collapsed": false,
    "ExecuteTime": {
     "end_time": "2024-03-14T15:33:21.953555Z",
     "start_time": "2024-03-14T15:33:21.948122Z"
    }
   },
   "execution_count": 212
  },
  {
   "cell_type": "markdown",
   "source": [
    "\n",
    "---\n",
    "# Preprocessing"
   ],
   "metadata": {
    "id": "54l8ya-yufRj"
   }
  },
  {
   "cell_type": "markdown",
   "source": [
    "## EV Sales"
   ],
   "metadata": {
    "collapsed": false
   }
  },
  {
   "cell_type": "code",
   "execution_count": 213,
   "metadata": {
    "colab": {
     "base_uri": "https://localhost:8080/",
     "height": 241
    },
    "id": "3BksQtPFnziT",
    "outputId": "e14773eb-4bab-4b20-f356-0da111f3a663",
    "ExecuteTime": {
     "end_time": "2024-03-14T15:33:22.056479Z",
     "start_time": "2024-03-14T15:33:22.027954Z"
    }
   },
   "outputs": [
    {
     "data": {
      "text/plain": "    Year  VALUE\n0   2013     87\n1   2014    263\n2   2015    497\n3   2016    411\n4   2017    664\n5   2018   1328\n6   2019   3803\n7   2020   4443\n8   2021   9616\n9   2022  16268\n10  2023  23762",
      "text/html": "<div>\n<style scoped>\n    .dataframe tbody tr th:only-of-type {\n        vertical-align: middle;\n    }\n\n    .dataframe tbody tr th {\n        vertical-align: top;\n    }\n\n    .dataframe thead th {\n        text-align: right;\n    }\n</style>\n<table border=\"1\" class=\"dataframe\">\n  <thead>\n    <tr style=\"text-align: right;\">\n      <th></th>\n      <th>Year</th>\n      <th>VALUE</th>\n    </tr>\n  </thead>\n  <tbody>\n    <tr>\n      <th>0</th>\n      <td>2013</td>\n      <td>87</td>\n    </tr>\n    <tr>\n      <th>1</th>\n      <td>2014</td>\n      <td>263</td>\n    </tr>\n    <tr>\n      <th>2</th>\n      <td>2015</td>\n      <td>497</td>\n    </tr>\n    <tr>\n      <th>3</th>\n      <td>2016</td>\n      <td>411</td>\n    </tr>\n    <tr>\n      <th>4</th>\n      <td>2017</td>\n      <td>664</td>\n    </tr>\n    <tr>\n      <th>5</th>\n      <td>2018</td>\n      <td>1328</td>\n    </tr>\n    <tr>\n      <th>6</th>\n      <td>2019</td>\n      <td>3803</td>\n    </tr>\n    <tr>\n      <th>7</th>\n      <td>2020</td>\n      <td>4443</td>\n    </tr>\n    <tr>\n      <th>8</th>\n      <td>2021</td>\n      <td>9616</td>\n    </tr>\n    <tr>\n      <th>9</th>\n      <td>2022</td>\n      <td>16268</td>\n    </tr>\n    <tr>\n      <th>10</th>\n      <td>2023</td>\n      <td>23762</td>\n    </tr>\n  </tbody>\n</table>\n</div>"
     },
     "execution_count": 213,
     "metadata": {},
     "output_type": "execute_result"
    }
   ],
   "source": [
    "from pandas import read_csv\n",
    "\n",
    "# Read from the csv file\n",
    "ev_sales = read_csv('data/ev_sales.csv')\n",
    "# Extract the year from the list of months\n",
    "# This is formatted as 2020M01, 2020M02 etc.\n",
    "ev_sales['Year'] = ev_sales['Month'].str[:4]\n",
    "# Aggregate the values into one value per year\n",
    "ev_sales = ev_sales.groupby(['Year'])['VALUE'].sum().reset_index().astype({'Year': 'int64'})\n",
    "ev_sales"
   ]
  },
  {
   "cell_type": "markdown",
   "source": [
    "## Fill past values for EV Sales"
   ],
   "metadata": {
    "collapsed": false
   }
  },
  {
   "cell_type": "code",
   "outputs": [
    {
     "data": {
      "text/plain": "    Year  VALUE\n0   1990      0\n1   1991      0\n2   1992      0\n3   1993      0\n4   1994      0\n5   1995      0\n6   1996      0\n7   1997      0\n8   1998      0\n9   1999      0\n10  2000      0\n11  2001      0\n12  2002      0\n13  2003      0\n14  2004      0\n15  2005      0\n16  2006      0\n17  2007      0\n18  2008      0\n19  2009      0\n20  2010      0\n21  2011      0\n22  2012      0\n23  2013     87\n24  2014    263\n25  2015    497\n26  2016    411\n27  2017    664\n28  2018   1328\n29  2019   3803\n30  2020   4443\n31  2021   9616\n32  2022  16268\n33  2023  23762",
      "text/html": "<div>\n<style scoped>\n    .dataframe tbody tr th:only-of-type {\n        vertical-align: middle;\n    }\n\n    .dataframe tbody tr th {\n        vertical-align: top;\n    }\n\n    .dataframe thead th {\n        text-align: right;\n    }\n</style>\n<table border=\"1\" class=\"dataframe\">\n  <thead>\n    <tr style=\"text-align: right;\">\n      <th></th>\n      <th>Year</th>\n      <th>VALUE</th>\n    </tr>\n  </thead>\n  <tbody>\n    <tr>\n      <th>0</th>\n      <td>1990</td>\n      <td>0</td>\n    </tr>\n    <tr>\n      <th>1</th>\n      <td>1991</td>\n      <td>0</td>\n    </tr>\n    <tr>\n      <th>2</th>\n      <td>1992</td>\n      <td>0</td>\n    </tr>\n    <tr>\n      <th>3</th>\n      <td>1993</td>\n      <td>0</td>\n    </tr>\n    <tr>\n      <th>4</th>\n      <td>1994</td>\n      <td>0</td>\n    </tr>\n    <tr>\n      <th>5</th>\n      <td>1995</td>\n      <td>0</td>\n    </tr>\n    <tr>\n      <th>6</th>\n      <td>1996</td>\n      <td>0</td>\n    </tr>\n    <tr>\n      <th>7</th>\n      <td>1997</td>\n      <td>0</td>\n    </tr>\n    <tr>\n      <th>8</th>\n      <td>1998</td>\n      <td>0</td>\n    </tr>\n    <tr>\n      <th>9</th>\n      <td>1999</td>\n      <td>0</td>\n    </tr>\n    <tr>\n      <th>10</th>\n      <td>2000</td>\n      <td>0</td>\n    </tr>\n    <tr>\n      <th>11</th>\n      <td>2001</td>\n      <td>0</td>\n    </tr>\n    <tr>\n      <th>12</th>\n      <td>2002</td>\n      <td>0</td>\n    </tr>\n    <tr>\n      <th>13</th>\n      <td>2003</td>\n      <td>0</td>\n    </tr>\n    <tr>\n      <th>14</th>\n      <td>2004</td>\n      <td>0</td>\n    </tr>\n    <tr>\n      <th>15</th>\n      <td>2005</td>\n      <td>0</td>\n    </tr>\n    <tr>\n      <th>16</th>\n      <td>2006</td>\n      <td>0</td>\n    </tr>\n    <tr>\n      <th>17</th>\n      <td>2007</td>\n      <td>0</td>\n    </tr>\n    <tr>\n      <th>18</th>\n      <td>2008</td>\n      <td>0</td>\n    </tr>\n    <tr>\n      <th>19</th>\n      <td>2009</td>\n      <td>0</td>\n    </tr>\n    <tr>\n      <th>20</th>\n      <td>2010</td>\n      <td>0</td>\n    </tr>\n    <tr>\n      <th>21</th>\n      <td>2011</td>\n      <td>0</td>\n    </tr>\n    <tr>\n      <th>22</th>\n      <td>2012</td>\n      <td>0</td>\n    </tr>\n    <tr>\n      <th>23</th>\n      <td>2013</td>\n      <td>87</td>\n    </tr>\n    <tr>\n      <th>24</th>\n      <td>2014</td>\n      <td>263</td>\n    </tr>\n    <tr>\n      <th>25</th>\n      <td>2015</td>\n      <td>497</td>\n    </tr>\n    <tr>\n      <th>26</th>\n      <td>2016</td>\n      <td>411</td>\n    </tr>\n    <tr>\n      <th>27</th>\n      <td>2017</td>\n      <td>664</td>\n    </tr>\n    <tr>\n      <th>28</th>\n      <td>2018</td>\n      <td>1328</td>\n    </tr>\n    <tr>\n      <th>29</th>\n      <td>2019</td>\n      <td>3803</td>\n    </tr>\n    <tr>\n      <th>30</th>\n      <td>2020</td>\n      <td>4443</td>\n    </tr>\n    <tr>\n      <th>31</th>\n      <td>2021</td>\n      <td>9616</td>\n    </tr>\n    <tr>\n      <th>32</th>\n      <td>2022</td>\n      <td>16268</td>\n    </tr>\n    <tr>\n      <th>33</th>\n      <td>2023</td>\n      <td>23762</td>\n    </tr>\n  </tbody>\n</table>\n</div>"
     },
     "execution_count": 214,
     "metadata": {},
     "output_type": "execute_result"
    }
   ],
   "source": [
    "# Fill the table with zeros\n",
    "zeros = [[year, 0] for year in range(1990, 2013)]\n",
    "zeros = pd.DataFrame(zeros, columns=['Year', 'VALUE'])\n",
    "ev_sales = pd.concat([zeros, ev_sales], ignore_index=True)\n",
    "ev_sales"
   ],
   "metadata": {
    "collapsed": false,
    "ExecuteTime": {
     "end_time": "2024-03-14T15:33:22.074132Z",
     "start_time": "2024-03-14T15:33:22.060083Z"
    }
   },
   "execution_count": 214
  },
  {
   "source": [
    "from matplotlib import pyplot as plt\n",
    "\n",
    "plt.scatter(ev_sales['Year'], ev_sales['VALUE'])\n",
    "plt.title('EV Sales')\n",
    "plt.show()"
   ],
   "cell_type": "code",
   "execution_count": 215,
   "outputs": [
    {
     "data": {
      "text/plain": "<Figure size 640x480 with 1 Axes>",
      "image/png": "[encoded data removed]"
     },
     "metadata": {},
     "output_type": "display_data"
    }
   ],
   "metadata": {
    "colab": {
     "base_uri": "https://localhost:8080/",
     "height": 452
    },
    "id": "dfLYkcy7urEJ",
    "outputId": "84c730f2-2caa-4735-cec8-8f8aacd96ebe",
    "ExecuteTime": {
     "end_time": "2024-03-14T15:33:22.412143Z",
     "start_time": "2024-03-14T15:33:22.080478Z"
    }
   }
  },
  {
   "cell_type": "code",
   "outputs": [],
   "source": [
    "# Remove years past 2019 for analysis\n",
    "ev_sales = ev_sales[ev_sales['Year'] < 2020]"
   ],
   "metadata": {
    "collapsed": false,
    "ExecuteTime": {
     "end_time": "2024-03-14T15:33:22.424413Z",
     "start_time": "2024-03-14T15:33:22.416985Z"
    }
   },
   "execution_count": 216
  },
  {
   "cell_type": "markdown",
   "source": [
    "## CO2"
   ],
   "metadata": {
    "collapsed": false
   }
  },
  {
   "cell_type": "code",
   "source": [
    "# Read csv\n",
    "co2 = read_csv('data/CO2-Emissions.csv')\n",
    "# Extract the relevant years from the Ireland entry\n",
    "co2 = co2[co2['Country Code'] == 'IRL'].iloc[:, 34:-4]\n",
    "# Convert to a column from a row\n",
    "co2 = co2.transpose().reset_index()\n",
    "# Rename the columns and reset datatypes\n",
    "co2.columns = ['Year', 'Value']\n",
    "co2 = co2.astype({'Year': 'int64'})\n",
    "co2"
   ],
   "metadata": {
    "colab": {
     "base_uri": "https://localhost:8080/",
     "height": 130
    },
    "id": "3GwyCCBr6l_e",
    "outputId": "13986e65-86e9-40a9-ce09-200bd0634bb7",
    "ExecuteTime": {
     "end_time": "2024-03-14T15:33:22.471135Z",
     "start_time": "2024-03-14T15:33:22.428482Z"
    }
   },
   "execution_count": 217,
   "outputs": [
    {
     "data": {
      "text/plain": "    Year      Value\n0   1990   8.810964\n1   1991   8.903398\n2   1992   8.853736\n3   1993   8.851032\n4   1994   9.140716\n5   1995   9.268405\n6   1996   9.572812\n7   1997   9.790644\n8   1998  10.348006\n9   1999  10.645960\n10  2000  11.177807\n11  2001  11.591434\n12  2002  11.172531\n13  2003  11.031294\n14  2004  10.979048\n15  2005  11.214294\n16  2006  11.059388\n17  2007  10.594548\n18  2008  10.226272\n19  2009   8.948169\n20  2010   8.847879\n21  2011   7.966688\n22  2012   8.046360\n23  2013   7.718343\n24  2014   7.633852\n25  2015   7.887609\n26  2016   8.203376\n27  2017   7.848150\n28  2018   7.699028\n29  2019   7.257749",
      "text/html": "<div>\n<style scoped>\n    .dataframe tbody tr th:only-of-type {\n        vertical-align: middle;\n    }\n\n    .dataframe tbody tr th {\n        vertical-align: top;\n    }\n\n    .dataframe thead th {\n        text-align: right;\n    }\n</style>\n<table border=\"1\" class=\"dataframe\">\n  <thead>\n    <tr style=\"text-align: right;\">\n      <th></th>\n      <th>Year</th>\n      <th>Value</th>\n    </tr>\n  </thead>\n  <tbody>\n    <tr>\n      <th>0</th>\n      <td>1990</td>\n      <td>8.810964</td>\n    </tr>\n    <tr>\n      <th>1</th>\n      <td>1991</td>\n      <td>8.903398</td>\n    </tr>\n    <tr>\n      <th>2</th>\n      <td>1992</td>\n      <td>8.853736</td>\n    </tr>\n    <tr>\n      <th>3</th>\n      <td>1993</td>\n      <td>8.851032</td>\n    </tr>\n    <tr>\n      <th>4</th>\n      <td>1994</td>\n      <td>9.140716</td>\n    </tr>\n    <tr>\n      <th>5</th>\n      <td>1995</td>\n      <td>9.268405</td>\n    </tr>\n    <tr>\n      <th>6</th>\n      <td>1996</td>\n      <td>9.572812</td>\n    </tr>\n    <tr>\n      <th>7</th>\n      <td>1997</td>\n      <td>9.790644</td>\n    </tr>\n    <tr>\n      <th>8</th>\n      <td>1998</td>\n      <td>10.348006</td>\n    </tr>\n    <tr>\n      <th>9</th>\n      <td>1999</td>\n      <td>10.645960</td>\n    </tr>\n    <tr>\n      <th>10</th>\n      <td>2000</td>\n      <td>11.177807</td>\n    </tr>\n    <tr>\n      <th>11</th>\n      <td>2001</td>\n      <td>11.591434</td>\n    </tr>\n    <tr>\n      <th>12</th>\n      <td>2002</td>\n      <td>11.172531</td>\n    </tr>\n    <tr>\n      <th>13</th>\n      <td>2003</td>\n      <td>11.031294</td>\n    </tr>\n    <tr>\n      <th>14</th>\n      <td>2004</td>\n      <td>10.979048</td>\n    </tr>\n    <tr>\n      <th>15</th>\n      <td>2005</td>\n      <td>11.214294</td>\n    </tr>\n    <tr>\n      <th>16</th>\n      <td>2006</td>\n      <td>11.059388</td>\n    </tr>\n    <tr>\n      <th>17</th>\n      <td>2007</td>\n      <td>10.594548</td>\n    </tr>\n    <tr>\n      <th>18</th>\n      <td>2008</td>\n      <td>10.226272</td>\n    </tr>\n    <tr>\n      <th>19</th>\n      <td>2009</td>\n      <td>8.948169</td>\n    </tr>\n    <tr>\n      <th>20</th>\n      <td>2010</td>\n      <td>8.847879</td>\n    </tr>\n    <tr>\n      <th>21</th>\n      <td>2011</td>\n      <td>7.966688</td>\n    </tr>\n    <tr>\n      <th>22</th>\n      <td>2012</td>\n      <td>8.046360</td>\n    </tr>\n    <tr>\n      <th>23</th>\n      <td>2013</td>\n      <td>7.718343</td>\n    </tr>\n    <tr>\n      <th>24</th>\n      <td>2014</td>\n      <td>7.633852</td>\n    </tr>\n    <tr>\n      <th>25</th>\n      <td>2015</td>\n      <td>7.887609</td>\n    </tr>\n    <tr>\n      <th>26</th>\n      <td>2016</td>\n      <td>8.203376</td>\n    </tr>\n    <tr>\n      <th>27</th>\n      <td>2017</td>\n      <td>7.848150</td>\n    </tr>\n    <tr>\n      <th>28</th>\n      <td>2018</td>\n      <td>7.699028</td>\n    </tr>\n    <tr>\n      <th>29</th>\n      <td>2019</td>\n      <td>7.257749</td>\n    </tr>\n  </tbody>\n</table>\n</div>"
     },
     "execution_count": 217,
     "metadata": {},
     "output_type": "execute_result"
    }
   ]
  },
  {
   "cell_type": "code",
   "source": [
    "plt.scatter(co2['Year'], co2['Value'])\n",
    "plt.title('CO2 Emissions')\n",
    "\n",
    "plt.show()"
   ],
   "metadata": {
    "colab": {
     "base_uri": "https://localhost:8080/",
     "height": 774
    },
    "id": "OsMT4Mo8PL5z",
    "outputId": "b8861e7b-e95a-4208-ebff-05940e31a164",
    "ExecuteTime": {
     "end_time": "2024-03-14T15:33:22.810794Z",
     "start_time": "2024-03-14T15:33:22.475603Z"
    }
   },
   "execution_count": 218,
   "outputs": [
    {
     "data": {
      "text/plain": "<Figure size 640x480 with 1 Axes>",
      "image/png": "[encoded data removed]"
     },
     "metadata": {},
     "output_type": "display_data"
    }
   ]
  },
  {
   "cell_type": "code",
   "outputs": [
    {
     "data": {
      "text/plain": "    Year  EV Sales  CO2 Emissions\n0   1990         0       8.810964\n1   1991         0       8.903398\n2   1992         0       8.853736\n3   1993         0       8.851032\n4   1994         0       9.140716\n5   1995         0       9.268405\n6   1996         0       9.572812\n7   1997         0       9.790644\n8   1998         0      10.348006\n9   1999         0      10.645960\n10  2000         0      11.177807\n11  2001         0      11.591434\n12  2002         0      11.172531\n13  2003         0      11.031294\n14  2004         0      10.979048\n15  2005         0      11.214294\n16  2006         0      11.059388\n17  2007         0      10.594548\n18  2008         0      10.226272\n19  2009         0       8.948169\n20  2010         0       8.847879\n21  2011         0       7.966688\n22  2012         0       8.046360\n23  2013        87       7.718343\n24  2014       263       7.633852\n25  2015       497       7.887609\n26  2016       411       8.203376\n27  2017       664       7.848150\n28  2018      1328       7.699028\n29  2019      3803       7.257749",
      "text/html": "<div>\n<style scoped>\n    .dataframe tbody tr th:only-of-type {\n        vertical-align: middle;\n    }\n\n    .dataframe tbody tr th {\n        vertical-align: top;\n    }\n\n    .dataframe thead th {\n        text-align: right;\n    }\n</style>\n<table border=\"1\" class=\"dataframe\">\n  <thead>\n    <tr style=\"text-align: right;\">\n      <th></th>\n      <th>Year</th>\n      <th>EV Sales</th>\n      <th>CO2 Emissions</th>\n    </tr>\n  </thead>\n  <tbody>\n    <tr>\n      <th>0</th>\n      <td>1990</td>\n      <td>0</td>\n      <td>8.810964</td>\n    </tr>\n    <tr>\n      <th>1</th>\n      <td>1991</td>\n      <td>0</td>\n      <td>8.903398</td>\n    </tr>\n    <tr>\n      <th>2</th>\n      <td>1992</td>\n      <td>0</td>\n      <td>8.853736</td>\n    </tr>\n    <tr>\n      <th>3</th>\n      <td>1993</td>\n      <td>0</td>\n      <td>8.851032</td>\n    </tr>\n    <tr>\n      <th>4</th>\n      <td>1994</td>\n      <td>0</td>\n      <td>9.140716</td>\n    </tr>\n    <tr>\n      <th>5</th>\n      <td>1995</td>\n      <td>0</td>\n      <td>9.268405</td>\n    </tr>\n    <tr>\n      <th>6</th>\n      <td>1996</td>\n      <td>0</td>\n      <td>9.572812</td>\n    </tr>\n    <tr>\n      <th>7</th>\n      <td>1997</td>\n      <td>0</td>\n      <td>9.790644</td>\n    </tr>\n    <tr>\n      <th>8</th>\n      <td>1998</td>\n      <td>0</td>\n      <td>10.348006</td>\n    </tr>\n    <tr>\n      <th>9</th>\n      <td>1999</td>\n      <td>0</td>\n      <td>10.645960</td>\n    </tr>\n    <tr>\n      <th>10</th>\n      <td>2000</td>\n      <td>0</td>\n      <td>11.177807</td>\n    </tr>\n    <tr>\n      <th>11</th>\n      <td>2001</td>\n      <td>0</td>\n      <td>11.591434</td>\n    </tr>\n    <tr>\n      <th>12</th>\n      <td>2002</td>\n      <td>0</td>\n      <td>11.172531</td>\n    </tr>\n    <tr>\n      <th>13</th>\n      <td>2003</td>\n      <td>0</td>\n      <td>11.031294</td>\n    </tr>\n    <tr>\n      <th>14</th>\n      <td>2004</td>\n      <td>0</td>\n      <td>10.979048</td>\n    </tr>\n    <tr>\n      <th>15</th>\n      <td>2005</td>\n      <td>0</td>\n      <td>11.214294</td>\n    </tr>\n    <tr>\n      <th>16</th>\n      <td>2006</td>\n      <td>0</td>\n      <td>11.059388</td>\n    </tr>\n    <tr>\n      <th>17</th>\n      <td>2007</td>\n      <td>0</td>\n      <td>10.594548</td>\n    </tr>\n    <tr>\n      <th>18</th>\n      <td>2008</td>\n      <td>0</td>\n      <td>10.226272</td>\n    </tr>\n    <tr>\n      <th>19</th>\n      <td>2009</td>\n      <td>0</td>\n      <td>8.948169</td>\n    </tr>\n    <tr>\n      <th>20</th>\n      <td>2010</td>\n      <td>0</td>\n      <td>8.847879</td>\n    </tr>\n    <tr>\n      <th>21</th>\n      <td>2011</td>\n      <td>0</td>\n      <td>7.966688</td>\n    </tr>\n    <tr>\n      <th>22</th>\n      <td>2012</td>\n      <td>0</td>\n      <td>8.046360</td>\n    </tr>\n    <tr>\n      <th>23</th>\n      <td>2013</td>\n      <td>87</td>\n      <td>7.718343</td>\n    </tr>\n    <tr>\n      <th>24</th>\n      <td>2014</td>\n      <td>263</td>\n      <td>7.633852</td>\n    </tr>\n    <tr>\n      <th>25</th>\n      <td>2015</td>\n      <td>497</td>\n      <td>7.887609</td>\n    </tr>\n    <tr>\n      <th>26</th>\n      <td>2016</td>\n      <td>411</td>\n      <td>8.203376</td>\n    </tr>\n    <tr>\n      <th>27</th>\n      <td>2017</td>\n      <td>664</td>\n      <td>7.848150</td>\n    </tr>\n    <tr>\n      <th>28</th>\n      <td>2018</td>\n      <td>1328</td>\n      <td>7.699028</td>\n    </tr>\n    <tr>\n      <th>29</th>\n      <td>2019</td>\n      <td>3803</td>\n      <td>7.257749</td>\n    </tr>\n  </tbody>\n</table>\n</div>"
     },
     "execution_count": 219,
     "metadata": {},
     "output_type": "execute_result"
    }
   ],
   "source": [
    "df = pd.merge(ev_sales, co2, on='Year', how='outer')\n",
    "df.columns = ['Year', 'EV Sales', 'CO2 Emissions']\n",
    "df"
   ],
   "metadata": {
    "collapsed": false,
    "ExecuteTime": {
     "end_time": "2024-03-14T15:33:22.830817Z",
     "start_time": "2024-03-14T15:33:22.813304Z"
    }
   },
   "execution_count": 219
  }
 ]
}
